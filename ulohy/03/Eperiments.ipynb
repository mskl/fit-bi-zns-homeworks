{
 "cells": [
  {
   "cell_type": "code",
   "execution_count": 2,
   "metadata": {
    "ExecuteTime": {
     "end_time": "2018-11-12T13:43:39.150225Z",
     "start_time": "2018-11-12T13:43:39.144951Z"
    }
   },
   "outputs": [],
   "source": [
    "def approx(p_e, p_h, p_eh, p_exh, p_ee_):\n",
    "    \"\"\"\n",
    "    returns: p_he_\n",
    "    \"\"\"\n",
    "    # calculate from bayes formula\n",
    "    p_he = (p_eh * p_h) / p_e\n",
    "    p_hxe = \n",
    "    \n",
    "    if 0 <= p_ee_ <= p_e:\n",
    "        return p_hxe + ((p_h - p_hxe)/p_e)*p_ee_\n",
    "    elif p_e <= p_ee_ <= 1:\n",
    "        return p_h + ((p_he - p_h)/(1-p_e))*(p_ee_ - p_e)\n",
    "    else:\n",
    "        raise ValueError(\"p_ee_ is out of range\")\n",
    "    "
   ]
  },
  {
   "cell_type": "code",
   "execution_count": 6,
   "metadata": {
    "ExecuteTime": {
     "end_time": "2018-11-12T13:47:31.348300Z",
     "start_time": "2018-11-12T13:47:31.343485Z"
    }
   },
   "outputs": [
    {
     "data": {
      "text/plain": [
       "0.7091836734693877"
      ]
     },
     "execution_count": 6,
     "metadata": {},
     "output_type": "execute_result"
    }
   ],
   "source": [
    "approx(0.05, 0.02, 1.0, 0.02, 0.7)"
   ]
  },
  {
   "cell_type": "code",
   "execution_count": null,
   "metadata": {},
   "outputs": [],
   "source": []
  }
 ],
 "metadata": {
  "kernelspec": {
   "display_name": "Python 3",
   "language": "python",
   "name": "python3"
  },
  "language_info": {
   "codemirror_mode": {
    "name": "ipython",
    "version": 3
   },
   "file_extension": ".py",
   "mimetype": "text/x-python",
   "name": "python",
   "nbconvert_exporter": "python",
   "pygments_lexer": "ipython3",
   "version": "3.6.1"
  }
 },
 "nbformat": 4,
 "nbformat_minor": 2
}
