{
 "cells": [
  {
   "cell_type": "code",
   "execution_count": 4,
   "metadata": {
    "ExecuteTime": {
     "end_time": "2018-11-13T20:52:56.707312Z",
     "start_time": "2018-11-13T20:52:56.701794Z"
    }
   },
   "outputs": [],
   "source": [
    "def P_HE_(p_e, p_h, p_he, p_hxe, p_ee_):\n",
    "    \"\"\"\n",
    "    returns: p_he_\n",
    "    \"\"\"\n",
    "    if 0 <= p_ee_ <= p_e:\n",
    "        return p_hxe + ((p_h - p_hxe)/p_e)*p_ee_\n",
    "    elif p_e <= p_ee_ <= 1:\n",
    "        return p_h + ((p_he - p_h)/(1-p_e))*(p_ee_ - p_e)\n",
    "    else:\n",
    "        raise ValueError(\"p_ee_ is out of range\")\n",
    "    "
   ]
  },
  {
   "cell_type": "code",
   "execution_count": 5,
   "metadata": {
    "ExecuteTime": {
     "end_time": "2018-11-13T20:52:58.059388Z",
     "start_time": "2018-11-13T20:52:58.054594Z"
    }
   },
   "outputs": [],
   "source": [
    "def P_HE_NO_(p_e, p_h, p_he, user_prob):\n",
    "    \"\"\"\n",
    "    returns: p_he_\n",
    "    \"\"\"\n",
    "    # from bayes formula\n",
    "    # p_he = (p_eh * p_h) / p_e\n",
    "    \n",
    "    if 0 <= user_prob <= p_e:\n",
    "        return ((p_h) / p_e) * user_prob\n",
    "    elif p_e <= user_prob <= 1:\n",
    "        return p_h + ((p_he - p_h) / (1 - p_e)) * (user_prob - p_e)\n",
    "    else:\n",
    "        raise ValueError(\"p_ee_ is out of range\")"
   ]
  },
  {
   "cell_type": "code",
   "execution_count": 6,
   "metadata": {
    "ExecuteTime": {
     "end_time": "2018-11-13T20:52:59.864730Z",
     "start_time": "2018-11-13T20:52:59.861597Z"
    }
   },
   "outputs": [],
   "source": [
    "def O(p_a):\n",
    "    return p_a / (1-p_a)"
   ]
  },
  {
   "cell_type": "code",
   "execution_count": 7,
   "metadata": {
    "ExecuteTime": {
     "end_time": "2018-11-13T20:53:00.366640Z",
     "start_time": "2018-11-13T20:53:00.363606Z"
    }
   },
   "outputs": [],
   "source": [
    "def P(o_a):\n",
    "    return o_a / (1 + o_a)"
   ]
  },
  {
   "cell_type": "code",
   "execution_count": 8,
   "metadata": {
    "ExecuteTime": {
     "end_time": "2018-11-13T20:53:00.792870Z",
     "start_time": "2018-11-13T20:53:00.789972Z"
    }
   },
   "outputs": [],
   "source": [
    "def L_(p_he_, p_h):\n",
    "    return O(p_he_) / O(p_h)"
   ]
  },
  {
   "cell_type": "code",
   "execution_count": 9,
   "metadata": {
    "ExecuteTime": {
     "end_time": "2018-11-13T20:53:01.449343Z",
     "start_time": "2018-11-13T20:53:01.444955Z"
    }
   },
   "outputs": [],
   "source": [
    "def nasobek_sanci(p_h, sance_):\n",
    "    o_h = O(p_h)\n",
    "    for s in sance_:\n",
    "        o_h *= s\n",
    "    return o_h"
   ]
  },
  {
   "cell_type": "code",
   "execution_count": 16,
   "metadata": {
    "ExecuteTime": {
     "end_time": "2018-11-13T21:35:16.703929Z",
     "start_time": "2018-11-13T21:35:16.697874Z"
    }
   },
   "outputs": [
    {
     "data": {
      "text/plain": [
       "0.42857142857142855"
      ]
     },
     "execution_count": 16,
     "metadata": {},
     "output_type": "execute_result"
    }
   ],
   "source": [
    "Ls = [L_(P_HE_(p_e=0.9, p_h=0.5, p_he=0.6, p_hxe=0.00, p_ee_=0.9), p_h=0.5),\n",
    "      L_(P_HE_(p_e=0.7, p_h=0.5, p_he=0.65, p_hxe=0.00, p_ee_=0.6), p_h=0.5)]\n",
    "\n",
    "P(nasobek_sanci(p_h=0.5, sance_=Ls))"
   ]
  },
  {
   "cell_type": "code",
   "execution_count": 24,
   "metadata": {
    "ExecuteTime": {
     "end_time": "2018-11-13T22:10:35.095258Z",
     "start_time": "2018-11-13T22:10:35.089092Z"
    }
   },
   "outputs": [
    {
     "data": {
      "text/plain": [
       "0.42857142857142855"
      ]
     },
     "execution_count": 24,
     "metadata": {},
     "output_type": "execute_result"
    }
   ],
   "source": [
    "Ls = [L_(P_HE_(p_e=0.9, p_h=0.5, p_he=0.6, p_hxe=0.00, p_ee_=0.9), p_h=0.5),\n",
    "      L_(P_HE_(p_e=0.7, p_h=0.5, p_he=0.65, p_hxe=0.00, p_ee_=0.6), p_h=0.5)]\n",
    "\n",
    "P(nasobek_sanci(p_h=0.5, sance_=Ls))"
   ]
  },
  {
   "cell_type": "code",
   "execution_count": 17,
   "metadata": {
    "ExecuteTime": {
     "end_time": "2018-11-13T22:03:56.682521Z",
     "start_time": "2018-11-13T22:03:56.677712Z"
    }
   },
   "outputs": [
    {
     "data": {
      "text/plain": [
       "1.0"
      ]
     },
     "execution_count": 17,
     "metadata": {},
     "output_type": "execute_result"
    }
   ],
   "source": [
    "L_(P_HE_(p_e=0.9, p_h=0.5, p_he=0.6, p_hxe=0.00, p_ee_=0.9), p_h=0.5)"
   ]
  },
  {
   "cell_type": "code",
   "execution_count": 19,
   "metadata": {
    "ExecuteTime": {
     "end_time": "2018-11-13T22:09:11.844820Z",
     "start_time": "2018-11-13T22:09:11.839908Z"
    }
   },
   "outputs": [
    {
     "data": {
      "text/plain": [
       "0.42857142857142855"
      ]
     },
     "execution_count": 19,
     "metadata": {},
     "output_type": "execute_result"
    }
   ],
   "source": [
    "P_HE_(p_e=0.7, p_h=0.5, p_he=0.65, p_hxe=0.00, p_ee_=0.6)"
   ]
  },
  {
   "cell_type": "code",
   "execution_count": 27,
   "metadata": {
    "ExecuteTime": {
     "end_time": "2018-11-13T22:11:17.667541Z",
     "start_time": "2018-11-13T22:11:17.663177Z"
    }
   },
   "outputs": [
    {
     "data": {
      "text/plain": [
       "1.0"
      ]
     },
     "execution_count": 27,
     "metadata": {},
     "output_type": "execute_result"
    }
   ],
   "source": [
    "L_(P_HE_(p_e=0.9, p_h=0.5, p_he=0.6, p_hxe=0.00, p_ee_=0.9), p_h=0.5)"
   ]
  },
  {
   "cell_type": "code",
   "execution_count": 26,
   "metadata": {
    "ExecuteTime": {
     "end_time": "2018-11-13T22:11:15.900564Z",
     "start_time": "2018-11-13T22:11:15.895959Z"
    }
   },
   "outputs": [
    {
     "data": {
      "text/plain": [
       "0.75"
      ]
     },
     "execution_count": 26,
     "metadata": {},
     "output_type": "execute_result"
    }
   ],
   "source": [
    "L_(P_HE_(p_e=0.7, p_h=0.5, p_he=0.65, p_hxe=0.00, p_ee_=0.6), p_h=0.5)"
   ]
  },
  {
   "cell_type": "code",
   "execution_count": null,
   "metadata": {},
   "outputs": [],
   "source": []
  }
 ],
 "metadata": {
  "kernelspec": {
   "display_name": "Python 3",
   "language": "python",
   "name": "python3"
  },
  "language_info": {
   "codemirror_mode": {
    "name": "ipython",
    "version": 3
   },
   "file_extension": ".py",
   "mimetype": "text/x-python",
   "name": "python",
   "nbconvert_exporter": "python",
   "pygments_lexer": "ipython3",
   "version": "3.6.1"
  }
 },
 "nbformat": 4,
 "nbformat_minor": 2
}
