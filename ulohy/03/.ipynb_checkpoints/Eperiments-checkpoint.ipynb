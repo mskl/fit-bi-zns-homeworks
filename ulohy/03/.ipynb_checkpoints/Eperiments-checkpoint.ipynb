{
 "cells": [
  {
   "cell_type": "code",
   "execution_count": 32,
   "metadata": {
    "ExecuteTime": {
     "end_time": "2018-11-12T22:20:17.772799Z",
     "start_time": "2018-11-12T22:20:17.767613Z"
    }
   },
   "outputs": [],
   "source": [
    "def P_HE_(p_e, p_h, p_he, p_hxe=0, p_ee_):\n",
    "    \"\"\"\n",
    "    returns: p_he_\n",
    "    \"\"\"\n",
    "    if 0 <= p_ee_ <= p_e:\n",
    "        return p_hxe + ((p_h - p_hxe)/p_e)*p_ee_\n",
    "    elif p_e <= p_ee_ <= 1:\n",
    "        return p_h + ((p_he - p_h)/(1-p_e))*(p_ee_ - p_e)\n",
    "    else:\n",
    "        raise ValueError(\"p_ee_ is out of range\")\n",
    "    "
   ]
  },
  {
   "cell_type": "code",
   "execution_count": 68,
   "metadata": {
    "ExecuteTime": {
     "end_time": "2018-11-12T23:43:24.101868Z",
     "start_time": "2018-11-12T23:43:24.096977Z"
    }
   },
   "outputs": [],
   "source": [
    "def P_HE_NO_(p_e, p_h, p_he, user_prob):\n",
    "    \"\"\"\n",
    "    returns: p_he_\n",
    "    \"\"\"\n",
    "    # from bayes formula\n",
    "    # p_he = (p_eh * p_h) / p_e\n",
    "    \n",
    "    if 0 <= user_prob <= p_e:\n",
    "        return ((p_h) / p_e) * user_prob\n",
    "    elif p_e <= user_prob <= 1:\n",
    "        return p_h + ((p_he - p_h) / (1 - p_e)) * (user_prob - p_e)\n",
    "    else:\n",
    "        raise ValueError(\"p_ee_ is out of range\")"
   ]
  },
  {
   "cell_type": "code",
   "execution_count": 17,
   "metadata": {
    "ExecuteTime": {
     "end_time": "2018-11-12T22:16:42.577199Z",
     "start_time": "2018-11-12T22:16:42.574363Z"
    }
   },
   "outputs": [],
   "source": [
    "def O(p_a):\n",
    "    return p_a / (1-p_a)"
   ]
  },
  {
   "cell_type": "code",
   "execution_count": 18,
   "metadata": {
    "ExecuteTime": {
     "end_time": "2018-11-12T22:17:15.282963Z",
     "start_time": "2018-11-12T22:17:15.279924Z"
    }
   },
   "outputs": [],
   "source": [
    "def P(o_a):\n",
    "    return o_a / (1 + o_a)"
   ]
  },
  {
   "cell_type": "code",
   "execution_count": 11,
   "metadata": {
    "ExecuteTime": {
     "end_time": "2018-11-12T22:12:14.831296Z",
     "start_time": "2018-11-12T22:12:14.828251Z"
    }
   },
   "outputs": [],
   "source": [
    "def L_(p_he_, p_h):\n",
    "    return O(p_he_) / O(p_h)"
   ]
  },
  {
   "cell_type": "code",
   "execution_count": 35,
   "metadata": {
    "ExecuteTime": {
     "end_time": "2018-11-12T23:26:56.023107Z",
     "start_time": "2018-11-12T23:26:56.019535Z"
    }
   },
   "outputs": [],
   "source": [
    "def nasobek_sanci(p_h, sance_):\n",
    "    o_h = O(p_h)\n",
    "    for s in sance_:\n",
    "        o_h *= s\n",
    "    return o_h"
   ]
  },
  {
   "cell_type": "code",
   "execution_count": 96,
   "metadata": {
    "ExecuteTime": {
     "end_time": "2018-11-12T23:48:34.945530Z",
     "start_time": "2018-11-12T23:48:34.939030Z"
    }
   },
   "outputs": [
    {
     "data": {
      "text/plain": [
       "0.9444534412955466"
      ]
     },
     "execution_count": 96,
     "metadata": {},
     "output_type": "execute_result"
    }
   ],
   "source": [
    "Ls = [L_(P_HE_(p_e=0.3, p_h=0.7, p_he=0.9, p_hxe=0.02, p_ee_=1), p_hS=0.7),\n",
    "      L_(P_HE_(p_e=0.6, p_h=0.7, p_he=0.8, p_hxe=0.05, p_ee_=1), p_h=0.7),\n",
    "      L_(P_HE_(p_e=0.8, p_h=0.7, p_he=0.6, p_hxe=0.08, p_ee_=1), p_h=0.7)]\n",
    "\n",
    "P(nasobek_sanci(p_h=0.8, sance_=Ls))"
   ]
  },
  {
   "cell_type": "code",
   "execution_count": null,
   "metadata": {},
   "outputs": [],
   "source": []
  }
 ],
 "metadata": {
  "kernelspec": {
   "display_name": "Python 3",
   "language": "python",
   "name": "python3"
  },
  "language_info": {
   "codemirror_mode": {
    "name": "ipython",
    "version": 3
   },
   "file_extension": ".py",
   "mimetype": "text/x-python",
   "name": "python",
   "nbconvert_exporter": "python",
   "pygments_lexer": "ipython3",
   "version": "3.6.1"
  }
 },
 "nbformat": 4,
 "nbformat_minor": 2
}
