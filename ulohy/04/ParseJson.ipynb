{
 "cells": [
  {
   "cell_type": "code",
   "execution_count": 78,
   "metadata": {
    "ExecuteTime": {
     "end_time": "2018-11-25T16:07:23.070462Z",
     "start_time": "2018-11-25T16:07:23.045609Z"
    }
   },
   "outputs": [
    {
     "ename": "AttributeError",
     "evalue": "'str' object has no attribute 'evaluate'",
     "traceback": [
      "\u001b[0;31m---------------------------------------------------------------------------\u001b[0m",
      "\u001b[0;31mAttributeError\u001b[0m                            Traceback (most recent call last)",
      "\u001b[0;32m<ipython-input-78-6b58946cd764>\u001b[0m in \u001b[0;36m<module>\u001b[0;34m()\u001b[0m\n\u001b[1;32m     25\u001b[0m \u001b[0mfuzzy_system\u001b[0m\u001b[0;34m.\u001b[0m\u001b[0madd_user_input\u001b[0m\u001b[0;34m(\u001b[0m\u001b[0;34m\"Kvalita AV\"\u001b[0m\u001b[0;34m,\u001b[0m \u001b[0;36m1\u001b[0m\u001b[0;34m)\u001b[0m\u001b[0;34m\u001b[0m\u001b[0m\n\u001b[1;32m     26\u001b[0m \u001b[0;34m\u001b[0m\u001b[0m\n\u001b[0;32m---> 27\u001b[0;31m \u001b[0mprint\u001b[0m\u001b[0;34m(\u001b[0m\u001b[0mfuzzy_system\u001b[0m\u001b[0;34m.\u001b[0m\u001b[0mgenerate_centroid\u001b[0m\u001b[0;34m(\u001b[0m\u001b[0muniverses\u001b[0m\u001b[0;34m[\u001b[0m\u001b[0;34m\"kino\"\u001b[0m\u001b[0;34m]\u001b[0m\u001b[0;34m,\u001b[0m \u001b[0;36m10000\u001b[0m\u001b[0;34m,\u001b[0m \u001b[0;32mTrue\u001b[0m\u001b[0;34m)\u001b[0m\u001b[0;34m)\u001b[0m\u001b[0;34m\u001b[0m\u001b[0m\n\u001b[0m",
      "\u001b[0;32m/Users/matya/FIT/bi-zns-2018-skalimat/ulohy/04/Fuzzy/fuzzy_system.py\u001b[0m in \u001b[0;36mgenerate_centroid\u001b[0;34m(self, solution_universe, integral_count, show_graph)\u001b[0m\n\u001b[1;32m     57\u001b[0m         \u001b[0mfunction_results\u001b[0m \u001b[0;34m=\u001b[0m \u001b[0;34m[\u001b[0m\u001b[0;34m]\u001b[0m\u001b[0;34m\u001b[0m\u001b[0m\n\u001b[1;32m     58\u001b[0m \u001b[0;34m\u001b[0m\u001b[0m\n\u001b[0;32m---> 59\u001b[0;31m         \u001b[0mevaluated_rules\u001b[0m \u001b[0;34m=\u001b[0m \u001b[0mself\u001b[0m\u001b[0;34m.\u001b[0m\u001b[0mevaluate_rules\u001b[0m\u001b[0;34m(\u001b[0m\u001b[0;34m)\u001b[0m\u001b[0;34m\u001b[0m\u001b[0m\n\u001b[0m\u001b[1;32m     60\u001b[0m         \u001b[0;32mfor\u001b[0m \u001b[0mp\u001b[0m \u001b[0;32min\u001b[0m \u001b[0mfunction_points\u001b[0m\u001b[0;34m:\u001b[0m\u001b[0;34m\u001b[0m\u001b[0m\n\u001b[1;32m     61\u001b[0m             \u001b[0mmax_function_value\u001b[0m \u001b[0;34m=\u001b[0m \u001b[0;36m0\u001b[0m\u001b[0;34m\u001b[0m\u001b[0m\n",
      "\u001b[0;32m/Users/matya/FIT/bi-zns-2018-skalimat/ulohy/04/Fuzzy/fuzzy_system.py\u001b[0m in \u001b[0;36mevaluate_rules\u001b[0;34m(self)\u001b[0m\n\u001b[1;32m     44\u001b[0m \u001b[0;34m\u001b[0m\u001b[0m\n\u001b[1;32m     45\u001b[0m         \u001b[0;32mfor\u001b[0m \u001b[0mrule\u001b[0m \u001b[0;32min\u001b[0m \u001b[0mself\u001b[0m\u001b[0;34m.\u001b[0m\u001b[0mrules\u001b[0m\u001b[0;34m:\u001b[0m\u001b[0;34m\u001b[0m\u001b[0m\n\u001b[0;32m---> 46\u001b[0;31m             \u001b[0;32mif\u001b[0m \u001b[0mrule\u001b[0m\u001b[0;34m.\u001b[0m\u001b[0mevaluate\u001b[0m\u001b[0;34m(\u001b[0m\u001b[0;34m)\u001b[0m \u001b[0;34m!=\u001b[0m \u001b[0;36m0\u001b[0m\u001b[0;34m:\u001b[0m\u001b[0;34m\u001b[0m\u001b[0m\n\u001b[0m\u001b[1;32m     47\u001b[0m                 \u001b[0mresult_rule_list\u001b[0m\u001b[0;34m.\u001b[0m\u001b[0mappend\u001b[0m\u001b[0;34m(\u001b[0m\u001b[0;34m(\u001b[0m\u001b[0mrule\u001b[0m\u001b[0;34m,\u001b[0m \u001b[0mrule\u001b[0m\u001b[0;34m.\u001b[0m\u001b[0mevaluate\u001b[0m\u001b[0;34m(\u001b[0m\u001b[0;34m)\u001b[0m\u001b[0;34m)\u001b[0m\u001b[0;34m)\u001b[0m\u001b[0;34m\u001b[0m\u001b[0m\n\u001b[1;32m     48\u001b[0m \u001b[0;34m\u001b[0m\u001b[0m\n",
      "\u001b[0;32m/Users/matya/FIT/bi-zns-2018-skalimat/ulohy/04/Fuzzy/fuzzy_rule.py\u001b[0m in \u001b[0;36mevaluate\u001b[0;34m(self)\u001b[0m\n\u001b[1;32m     16\u001b[0m         \u001b[0;34m:\u001b[0m\u001b[0mrtype\u001b[0m\u001b[0;34m:\u001b[0m \u001b[0;34m(\u001b[0m\u001b[0mfloat\u001b[0m\u001b[0;34m,\u001b[0m \u001b[0mTerm\u001b[0m \u001b[0;34m|\u001b[0m \u001b[0mTermAggregate\u001b[0m\u001b[0;34m)\u001b[0m\u001b[0;34m\u001b[0m\u001b[0m\n\u001b[1;32m     17\u001b[0m         \"\"\"\n\u001b[0;32m---> 18\u001b[0;31m         \u001b[0;32mreturn\u001b[0m \u001b[0mself\u001b[0m\u001b[0;34m.\u001b[0m\u001b[0mconditions\u001b[0m\u001b[0;34m.\u001b[0m\u001b[0mevaluate\u001b[0m\u001b[0;34m(\u001b[0m\u001b[0;34m)\u001b[0m\u001b[0;34m\u001b[0m\u001b[0m\n\u001b[0m",
      "\u001b[0;31mAttributeError\u001b[0m: 'str' object has no attribute 'evaluate'"
     ],
     "output_type": "error"
    }
   ],
   "source": [
    "from Fuzzy.Function import TrapMF\n",
    "from Fuzzy.Term import Term\n",
    "from Fuzzy import FuzzyUniverse, FuzzyRule, FuzzySystem\n",
    "import json\n",
    "\n",
    "\n",
    "with open('knowledge_base.json') as knowledge_base_file:\n",
    "    json_data = json.load(knowledge_base_file)\n",
    "    \n",
    "universes = dict()\n",
    "rules = []\n",
    "\n",
    "for universe in json_data[\"universes\"]:\n",
    "    new_universe = FuzzyUniverse(universe[\"min\"], universe[\"max\"], universe[\"name\"])\n",
    "    for rating in universe[\"ratings\"]:\n",
    "        new_universe[rating[\"name\"]] = Term(exec(rating[\"function\"]))\n",
    "    universes[universe[\"key\"]] = new_universe\n",
    "\n",
    "for rule in json_data[\"rules\"]:\n",
    "    new_rule = FuzzyRule(exec(rule[\"conditions\"]), exec(rule[\"solution\"])\n",
    "    rules.append(new_rule)\n",
    "    \n",
    "fuzzy_system = FuzzySystem(fuzzy_universe_list=universes.values(), rule_list=rules)\n",
    "fuzzy_system.add_user_input(\"Kvalita filmů\", 7)\n",
    "fuzzy_system.add_user_input(\"Kvalita AV\", 1)\n",
    "\n",
    "print(fuzzy_system.generate_centroid(universes[\"kino\"], 10000, True))\n"
   ]
  },
  {
   "cell_type": "code",
   "execution_count": 75,
   "metadata": {
    "ExecuteTime": {
     "end_time": "2018-11-25T16:02:19.167602Z",
     "start_time": "2018-11-25T16:02:19.162729Z"
    }
   },
   "outputs": [
    {
     "data": {
      "text/plain": [
       "dict_values([4594729984[Kvalita filmů], 4594730320[Kvalita AV], 4440574104[Hodnocení kina]])"
      ]
     },
     "execution_count": 75,
     "metadata": {},
     "output_type": "execute_result"
    }
   ],
   "source": [
    "universes.values()"
   ]
  },
  {
   "cell_type": "code",
   "execution_count": null,
   "metadata": {},
   "outputs": [],
   "source": []
  }
 ],
 "metadata": {
  "kernelspec": {
   "display_name": "Python 3",
   "language": "python",
   "name": "python3"
  },
  "language_info": {
   "codemirror_mode": {
    "name": "ipython",
    "version": 3
   },
   "file_extension": ".py",
   "mimetype": "text/x-python",
   "name": "python",
   "nbconvert_exporter": "python",
   "pygments_lexer": "ipython3",
   "version": "3.6.1"
  }
 },
 "nbformat": 4,
 "nbformat_minor": 2
}
